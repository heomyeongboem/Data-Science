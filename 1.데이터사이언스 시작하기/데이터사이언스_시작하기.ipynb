{
  "nbformat": 4,
  "nbformat_minor": 0,
  "metadata": {
    "colab": {
      "name": "데이터사이언스 시작하기.ipynb",
      "provenance": []
    },
    "kernelspec": {
      "name": "python3",
      "display_name": "Python 3"
    },
    "language_info": {
      "name": "python"
    }
  },
  "cells": [
    {
      "cell_type": "code",
      "source": [
        "import numpy"
      ],
      "metadata": {
        "id": "Ca6QxX5caydL"
      },
      "execution_count": null,
      "outputs": []
    },
    {
      "cell_type": "code",
      "source": [
        "array1 = numpy.array([1,2,3,4,5,6,11])"
      ],
      "metadata": {
        "id": "5dXJvK-ka0RG"
      },
      "execution_count": null,
      "outputs": []
    },
    {
      "cell_type": "code",
      "source": [
        "print(array1)"
      ],
      "metadata": {
        "colab": {
          "base_uri": "https://localhost:8080/"
        },
        "id": "bFVjUngoa7SZ",
        "outputId": "1513a312-7e9f-4f5a-dd7a-5c13a0cbe938"
      },
      "execution_count": null,
      "outputs": [
        {
          "output_type": "stream",
          "name": "stdout",
          "text": [
            "[ 1  2  3  4  5  6 11]\n"
          ]
        }
      ]
    },
    {
      "cell_type": "code",
      "source": [
        "array2 = numpy.array([[1,2,3],[4,5,6],[7,8,9],[10,11,12]])"
      ],
      "metadata": {
        "id": "inFNyYYka-iy"
      },
      "execution_count": null,
      "outputs": []
    },
    {
      "cell_type": "code",
      "source": [
        "type(array2) #type 배열의 타입 "
      ],
      "metadata": {
        "colab": {
          "base_uri": "https://localhost:8080/"
        },
        "id": "QJbbQWf_bQYk",
        "outputId": "f56d7c59-addb-4ce0-c05b-49d4707f3aca"
      },
      "execution_count": null,
      "outputs": [
        {
          "output_type": "execute_result",
          "data": {
            "text/plain": [
              "numpy.ndarray"
            ]
          },
          "metadata": {},
          "execution_count": 14
        }
      ]
    },
    {
      "cell_type": "code",
      "source": [
        "array2.shape #shape (행,열)배열의 형태 표현 "
      ],
      "metadata": {
        "colab": {
          "base_uri": "https://localhost:8080/"
        },
        "id": "aWnQIBM3bJEy",
        "outputId": "d59ae82c-8ba7-4a09-9af7-f31be25cd281"
      },
      "execution_count": null,
      "outputs": [
        {
          "output_type": "execute_result",
          "data": {
            "text/plain": [
              "(4, 3)"
            ]
          },
          "metadata": {},
          "execution_count": 12
        }
      ]
    },
    {
      "cell_type": "code",
      "source": [
        "array2.size #size 배열의 요소 갯수 "
      ],
      "metadata": {
        "colab": {
          "base_uri": "https://localhost:8080/"
        },
        "id": "_UKuI_kibYla",
        "outputId": "da3e3a16-5c59-4a3d-a2d4-ca361e7a2da1"
      },
      "execution_count": null,
      "outputs": [
        {
          "output_type": "execute_result",
          "data": {
            "text/plain": [
              "12"
            ]
          },
          "metadata": {},
          "execution_count": 15
        }
      ]
    },
    {
      "cell_type": "markdown",
      "source": [
        "#numpy array 초기값 지정 "
      ],
      "metadata": {
        "id": "sQKjhK8tbyKu"
      }
    },
    {
      "cell_type": "code",
      "source": [
        "import numpy as np"
      ],
      "metadata": {
        "id": "ubANHi8Kb6aW"
      },
      "execution_count": null,
      "outputs": []
    },
    {
      "cell_type": "code",
      "source": [
        "array1 = np.full(6,0)\n",
        "array2 = np.full(6,1) #np.full(갯수, 원하는 값 )\n",
        "array3 = np.zeros(6 ,int) #np.zeros(원하는 갯수) -> 다 0으로 생성 \n",
        "array4 = np.ones(6,int) #np.ones(워하는 갯수) -> 다 1로 생성 \n",
        "\n",
        "print(array1)\n",
        "print(array2)\n",
        "print(array3)\n",
        "print(array4)"
      ],
      "metadata": {
        "colab": {
          "base_uri": "https://localhost:8080/"
        },
        "id": "0qkVIRWxb26l",
        "outputId": "2934f1c6-e23f-4636-8eaa-0368183b50f1"
      },
      "execution_count": null,
      "outputs": [
        {
          "output_type": "stream",
          "name": "stdout",
          "text": [
            "[0 0 0 0 0 0]\n",
            "[1 1 1 1 1 1]\n",
            "[0 0 0 0 0 0]\n",
            "[1. 1. 1. 1. 1. 1.]\n"
          ]
        }
      ]
    },
    {
      "cell_type": "markdown",
      "source": [
        "#랜덤한 값들 생성 "
      ],
      "metadata": {
        "id": "9miXVIwGctqc"
      }
    },
    {
      "cell_type": "code",
      "source": [
        "array1 = np.random.random(6) #np.random.random(갯수) #갯수만큼 랜덤값 생성 0이상 1이하 \n",
        "print(array1)"
      ],
      "metadata": {
        "colab": {
          "base_uri": "https://localhost:8080/"
        },
        "id": "_mMc_50OctJh",
        "outputId": "8decebf1-1079-4a9d-e349-dc4956586a07"
      },
      "execution_count": null,
      "outputs": [
        {
          "output_type": "stream",
          "name": "stdout",
          "text": [
            "[0.23487559 0.39271979 0.82146364 0.0067567  0.74579288 0.97649004]\n"
          ]
        }
      ]
    },
    {
      "cell_type": "markdown",
      "source": [
        "#연속된 값들이 담긴 numpy array 생성 \n",
        "##numpy.arange"
      ],
      "metadata": {
        "id": "K0n2JxN0dH6W"
      }
    },
    {
      "cell_type": "code",
      "source": [
        "array1 = np.arange(6)\n",
        "array2 = np.arange(2,7) #2부터 7 -1 까지\n",
        "array3 = np.arange(3,17,3) #3부터 17까지 step 3\n",
        "print(array1)\n",
        "print(array2)\n",
        "print(array3)"
      ],
      "metadata": {
        "colab": {
          "base_uri": "https://localhost:8080/"
        },
        "id": "piJQSXYhdNDd",
        "outputId": "00a74dcb-3a64-4540-fa5c-ebdce674a990"
      },
      "execution_count": null,
      "outputs": [
        {
          "output_type": "stream",
          "name": "stdout",
          "text": [
            "[0 1 2 3 4 5]\n",
            "[2 3 4 5 6]\n",
            "[ 3  6  9 12 15]\n"
          ]
        }
      ]
    },
    {
      "cell_type": "markdown",
      "source": [
        "#시각화\n",
        "##pd.DataFrame"
      ],
      "metadata": {
        "id": "PXHsuv8VxoFJ"
      }
    },
    {
      "cell_type": "markdown",
      "source": [
        "#리스트"
      ],
      "metadata": {
        "id": "VR6XlCB2xl3o"
      }
    },
    {
      "cell_type": "code",
      "source": [
        "import numpy as np\n",
        "import pandas as pd\n",
        "\n",
        "# 리스트를 이용한 시각화 -> 각 행에 카테고리는 안나옴 \n",
        "# 값이 세로로 나옴 \n",
        "two_dimensional_list = [['dongwook',50,86],['sineui',89,31],['ikjoong',68,91],['yoonsoo',88,75]]\n",
        "two_dimensional_array = np.array(two_dimensional_list) #리스트를 np.array 를 통해 numpy array 로 만듦\n",
        "list_of_series = [\n",
        "    pd.Series(['dongwook',50,86]),\n",
        "    pd.Series(['sineui',89,31]),\n",
        "    pd.Series(['ikjoong',68,91]),\n",
        "    pd.Series(['yoonsoo',88,75])\n",
        "]\n",
        "\n",
        "df1 = pd.DataFrame(two_dimensional_list) #pd.DataFrame(리스트 or 배열 or series) -> 시각화 \n",
        "df2 = pd.DataFrame(two_dimensional_array)\n",
        "df3 = pd.DataFrame(list_of_series)\n",
        "\n",
        "print(f'two_dimensional_list :{df1}')\n",
        "print(f'two_dimensional_array :{df2}')\n",
        "print(f'list_of_series :{df3}')\n"
      ],
      "metadata": {
        "colab": {
          "base_uri": "https://localhost:8080/"
        },
        "id": "HkDXvQApuXYT",
        "outputId": "eac3ed52-cd2e-4f14-acf8-151e070e2136"
      },
      "execution_count": null,
      "outputs": [
        {
          "output_type": "stream",
          "name": "stdout",
          "text": [
            "two_dimensional_list :          0   1   2\n",
            "0  dongwook  50  86\n",
            "1    sineui  89  31\n",
            "2   ikjoong  68  91\n",
            "3   yoonsoo  88  75\n",
            "two_dimensional_array :          0   1   2\n",
            "0  dongwook  50  86\n",
            "1    sineui  89  31\n",
            "2   ikjoong  68  91\n",
            "3   yoonsoo  88  75\n",
            "list_of_series :          0   1   2\n",
            "0  dongwook  50  86\n",
            "1    sineui  89  31\n",
            "2   ikjoong  68  91\n",
            "3   yoonsoo  88  75\n"
          ]
        }
      ]
    },
    {
      "cell_type": "markdown",
      "source": [
        "#리스트가 담긴 사전 "
      ],
      "metadata": {
        "id": "OyGDUCndxiMi"
      }
    },
    {
      "cell_type": "code",
      "source": [
        "import numpy as np\n",
        "import pandas as pd\n",
        "\n",
        "names = ['dongwook','sineui','ikjoong','yoonsoo']\n",
        "english_scores = [50,89,68,88]\n",
        "math_scores = [86,31,91,75]\n",
        "# dictonary를 이용한 시각화 -> 첫행에 각 카테고리 나옴 \n",
        "dict1 = {\n",
        "    'name': names,\n",
        "    'english':english_scores,\n",
        "    'math_score' : math_scores\n",
        "}\n",
        "\n",
        "dict2 = {\n",
        "    'name': np.array(names),\n",
        "    'english_score' :np.array(english_scores),\n",
        "    'math_score': math_scores\n",
        "}\n",
        "\n",
        "dict3 = {\n",
        "    'name': pd.Series(names),\n",
        "    'english_score' : pd.Series(english_scores),\n",
        "    'math_score': pd.Series(math_scores)\n",
        "}\n",
        "\n",
        "df1 = pd.DataFrame(dict1)\n",
        "df2 = pd.DataFrame(dict2)\n",
        "df3 = pd.DataFrame(dict3)\n",
        "\n",
        "print(df1)\n",
        "print(df2)\n",
        "print(df3)\n"
      ],
      "metadata": {
        "colab": {
          "base_uri": "https://localhost:8080/"
        },
        "id": "nkgdJdUov1nS",
        "outputId": "a14114a0-7aeb-4cef-ca71-30617546e5c3"
      },
      "execution_count": null,
      "outputs": [
        {
          "output_type": "stream",
          "name": "stdout",
          "text": [
            "       name  english  math_score\n",
            "0  dongwook       50          86\n",
            "1    sineui       89          31\n",
            "2   ikjoong       68          91\n",
            "3   yoonsoo       88          75\n",
            "       name  english_score  math_score\n",
            "0  dongwook             50          86\n",
            "1    sineui             89          31\n",
            "2   ikjoong             68          91\n",
            "3   yoonsoo             88          75\n",
            "       name  english_score  math_score\n",
            "0  dongwook             50          86\n",
            "1    sineui             89          31\n",
            "2   ikjoong             68          91\n",
            "3   yoonsoo             88          75\n"
          ]
        }
      ]
    },
    {
      "cell_type": "markdown",
      "source": [
        "#사전이 담긴 리스트 "
      ],
      "metadata": {
        "id": "EoS7Ec4Lxgak"
      }
    },
    {
      "cell_type": "code",
      "source": [
        "import numpy as np\n",
        "import pandas as pd\n",
        "# 사전이 담긴 리스트 \n",
        "my_list = [\n",
        "    {'name': 'dongwook', 'english_score': 50, 'math_score': 86},\n",
        "    {'name': 'sineui', 'english_score': 89, 'math_score': 31},\n",
        "    {'name': 'ikjoong', 'english_score': 68, 'math_score': 91},\n",
        "    {'name': 'yoonsoo', 'english_score': 88, 'math_score': 75}\n",
        "]\n",
        "df = pd.DataFrame(my_list)\n",
        "print(df)"
      ],
      "metadata": {
        "colab": {
          "base_uri": "https://localhost:8080/"
        },
        "id": "2vJ3ursjxaDS",
        "outputId": "3b52d28f-9e93-4608-d399-ffccd137ee81"
      },
      "execution_count": null,
      "outputs": [
        {
          "output_type": "stream",
          "name": "stdout",
          "text": [
            "       name  english_score  math_score\n",
            "0  dongwook             50          86\n",
            "1    sineui             89          31\n",
            "2   ikjoong             68          91\n",
            "3   yoonsoo             88          75\n"
          ]
        }
      ]
    },
    {
      "cell_type": "code",
      "source": [
        "import pandas as pd\n",
        "\n",
        "# 코드를 작성하세요.\n",
        "\n",
        "name = ['Taylor SWift','Aaron Sorkin','Harry Potter','Ji_Sung Park']\n",
        "birthday = ['December 13,1989','June 9,1961','July 31,1980','February 25,1981']\n",
        "occupation = ['Singer-songwriter','Screenwriter','Wizard','Footballer']\n",
        "\n",
        "list = {\n",
        "    'name' : name,\n",
        "    'birthday' : birthday,\n",
        "    'occupation' : occupation\n",
        "}\n",
        "\n",
        "# 정답 출력\n",
        "df = pd.DataFrame(list)\n",
        "print(df)"
      ],
      "metadata": {
        "colab": {
          "base_uri": "https://localhost:8080/"
        },
        "id": "m06XskgMzB1u",
        "outputId": "c0df2aac-e84d-454f-e6af-009ea31f416d"
      },
      "execution_count": null,
      "outputs": [
        {
          "output_type": "stream",
          "name": "stdout",
          "text": [
            "           name          birthday         occupation\n",
            "0  Taylor SWift  December 13,1989  Singer-songwriter\n",
            "1  Aaron Sorkin       June 9,1961       Screenwriter\n",
            "2  Harry Potter      July 31,1980             Wizard\n",
            "3  Ji_Sung Park  February 25,1981         Footballer\n"
          ]
        }
      ]
    },
    {
      "cell_type": "code",
      "source": [
        "import pandas as pd \n",
        "two_dimensional_list = [['HEO',99,80],['YEE',80,76],['YEEM',99,99]]\n",
        "my_df = pd.DataFrame(two_dimensional_list,columns = ['name','english_score','math_score'])\n",
        "print(my_df.dtypes)\n"
      ],
      "metadata": {
        "colab": {
          "base_uri": "https://localhost:8080/"
        },
        "id": "tjMcBBUh8G4A",
        "outputId": "27ac8c7d-dd61-4ee0-bb8e-c6f0f8d7219e"
      },
      "execution_count": null,
      "outputs": [
        {
          "output_type": "stream",
          "name": "stdout",
          "text": [
            "name             object\n",
            "english_score     int64\n",
            "math_score        int64\n",
            "dtype: object\n"
          ]
        }
      ]
    }
  ]
}